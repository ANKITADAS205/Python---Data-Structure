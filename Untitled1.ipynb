{
  "nbformat": 4,
  "nbformat_minor": 0,
  "metadata": {
    "colab": {
      "provenance": []
    },
    "kernelspec": {
      "name": "python3",
      "display_name": "Python 3"
    },
    "language_info": {
      "name": "python"
    }
  },
  "cells": [
    {
      "cell_type": "code",
      "execution_count": null,
      "metadata": {
        "id": "FjDmvibq9xii"
      },
      "outputs": [],
      "source": []
    },
    {
      "cell_type": "markdown",
      "source": [
        "#1  \n",
        "   Data structures organize and manage data efficiently for operations like searching, sorting, and retrieval, crucial for optimizing performance.\n",
        "\n",
        "#2\n",
        "   - **Mutable**: Can be changed after creation (e.g., lists: `a = [1, 2] → a[0] = 3`).  \n",
        "   - **Immutable**: Cannot be changed (e.g., tuples: `a = (1, 2)`).\n",
        "\n",
        "#3   \n",
        "   - Lists: Mutable, slower, use square brackets (`[ ]`).  \n",
        "   - Tuples: Immutable, faster, use parentheses (`( )`).\n",
        "\n",
        "#4\n",
        "   Dictionaries store data as key-value pairs in a hash table for efficient lookups.\n",
        "\n",
        "#5  \n",
        "   Sets automatically remove duplicates and offer faster membership checks.\n",
        "\n",
        "#6\n",
        "   Strings: Immutable sequences of characters.  \n",
        "   Lists: Mutable sequences that can hold mixed data types.\n",
        "\n",
        "#7  \n",
        "   Their immutability prevents accidental modification, making them reliable for fixed data.\n",
        "\n",
        "#8  \n",
        "   A hash table maps keys to values using hash functions; dictionaries in Python are implemented as hash tables.\n",
        "\n",
        "#9\n",
        "   Yes, lists can store elements of varying data types.\n",
        "\n",
        "#10\n",
        "   To optimize memory usage and ensure security, as immutable objects are hashable\n",
        "\n",
        "#11\n",
        "    Fast lookups with key-value pairs, suitable for unordered data with unique identifiers.\n",
        "\n",
        "#12\n",
        "    Use tuples for constants like geographic coordinates (`(latitude, longitude)`).\n",
        "\n",
        "#13\n",
        "    Sets automatically remove duplicates.\n",
        "\n",
        "#14\n",
        "    - Lists: Checks for existence of values (`value in list`).  \n",
        "    - Dictionaries: Checks for existence of keys (`key in dict`).\n",
        "\n",
        "#15\n",
        "    No, because tuples are immutable.\n",
        "\n",
        "#16\n",
        "    A dictionary within another dictionary, e.g., `{'user1': {'name': 'Ankita', 'age': 25}}`.\n",
        "\n",
        "#17\n",
        "    O(1) (average case) due to hash table implementation.\n",
        "\n",
        "#18\n",
        "    Use lists for ordered collections or when indexing by position is needed.\n",
        "\n",
        "#19\n",
        "    Keys are stored based on hash values, so the order is not guaranteed, but retrieval is efficient.\n",
        "\n",
        "#20\n",
        "    - Lists: Access by index.  \n",
        "    - Dictionaries: Access by key."
      ],
      "metadata": {
        "id": "VR2neAdx9yoR"
      }
    },
    {
      "cell_type": "code",
      "source": [
        "#1\n",
        "my_name = \"ANKITA\"\n",
        "\n",
        "# Print the string\n",
        "print(my_name)"
      ],
      "metadata": {
        "colab": {
          "base_uri": "https://localhost:8080/"
        },
        "id": "xQ51CidX_X2-",
        "outputId": "6bfedaa9-1577-4824-fb21-107e196672ec"
      },
      "execution_count": 1,
      "outputs": [
        {
          "output_type": "stream",
          "name": "stdout",
          "text": [
            "ANKITA\n"
          ]
        }
      ]
    },
    {
      "cell_type": "code",
      "source": [
        "#2\n",
        "my_string = \"hello world\"\n",
        "\n",
        "# Find the length of the string\n",
        "string_length = len(my_string)\n",
        "\n",
        "# Print the length\n",
        "print(\"The length of the string is:\", string_length)"
      ],
      "metadata": {
        "colab": {
          "base_uri": "https://localhost:8080/"
        },
        "id": "JDeqcLfl_rVh",
        "outputId": "d9b10f6a-341f-4a4e-c72e-6c485967f8dc"
      },
      "execution_count": 3,
      "outputs": [
        {
          "output_type": "stream",
          "name": "stdout",
          "text": [
            "The length of the string is: 11\n"
          ]
        }
      ]
    },
    {
      "cell_type": "code",
      "source": [
        "#3\n",
        "my_string = \"Python Programming\"\n",
        "\n",
        "# Slice the first 3 characters\n",
        "sliced_string = my_string[:3]\n",
        "\n",
        "# Print the result\n",
        "print(\"The first 3 characters are:\", sliced_string)\n"
      ],
      "metadata": {
        "colab": {
          "base_uri": "https://localhost:8080/"
        },
        "id": "77UvcYJ9AVX6",
        "outputId": "1b723941-d93c-4870-db9a-bda3e52962c0"
      },
      "execution_count": 4,
      "outputs": [
        {
          "output_type": "stream",
          "name": "stdout",
          "text": [
            "The first 3 characters are: Pyt\n"
          ]
        }
      ]
    },
    {
      "cell_type": "code",
      "source": [
        "#4\n",
        "my_string = \"hello\"\n",
        "\n",
        "# Convert the string to uppercase\n",
        "uppercase_string = my_string.upper()\n",
        "\n",
        "# Print the result\n",
        "print(\"The string in uppercase is:\", uppercase_string)"
      ],
      "metadata": {
        "colab": {
          "base_uri": "https://localhost:8080/"
        },
        "id": "kkoTLmNAAetu",
        "outputId": "1197a2d6-5f07-4f8a-bd0d-3fa1dca5cb29"
      },
      "execution_count": 5,
      "outputs": [
        {
          "output_type": "stream",
          "name": "stdout",
          "text": [
            "The string in uppercase is: HELLO\n"
          ]
        }
      ]
    },
    {
      "cell_type": "code",
      "source": [
        "#5\n",
        "my_string = \"i like apple\"\n",
        "\n",
        "# Replace \"apple\" with \"orange\"\n",
        "new_string = my_string.replace(\"apple\", \"orange\")\n",
        "\n",
        "# Print the result\n",
        "print(\"Updated string:\", new_string)"
      ],
      "metadata": {
        "colab": {
          "base_uri": "https://localhost:8080/"
        },
        "id": "mhLmaFqsArW0",
        "outputId": "64c7724f-1494-4d0e-bf22-34c7901e1d6f"
      },
      "execution_count": 6,
      "outputs": [
        {
          "output_type": "stream",
          "name": "stdout",
          "text": [
            "Updated string: i like orange\n"
          ]
        }
      ]
    },
    {
      "cell_type": "code",
      "source": [
        "#6\n",
        "my_list = [1, 2, 3, 4, 5]\n",
        "\n",
        "# Print the list\n",
        "print(\"The list is:\", my_list)"
      ],
      "metadata": {
        "colab": {
          "base_uri": "https://localhost:8080/"
        },
        "id": "4pi1-UUxA0Ja",
        "outputId": "f0d43fac-c9b6-4cd8-c8ab-339ac0475750"
      },
      "execution_count": 8,
      "outputs": [
        {
          "output_type": "stream",
          "name": "stdout",
          "text": [
            "The list is: [1, 2, 3, 4, 5]\n"
          ]
        }
      ]
    },
    {
      "cell_type": "code",
      "source": [
        "#7\n",
        "my_list = [1, 2, 3, 4, 5]\n",
        "\n",
        "# Append the number 10 to the list\n",
        "my_list.append(10)\n",
        "\n",
        "# Print the updated list\n",
        "print(\"Updated list:\", my_list)"
      ],
      "metadata": {
        "colab": {
          "base_uri": "https://localhost:8080/"
        },
        "id": "zGQNHa-oA-zM",
        "outputId": "92ea8db1-6645-47d0-c024-8e55cd05fe00"
      },
      "execution_count": 11,
      "outputs": [
        {
          "output_type": "stream",
          "name": "stdout",
          "text": [
            "Updated list: [1, 2, 3, 4, 5, 10]\n"
          ]
        }
      ]
    },
    {
      "cell_type": "code",
      "source": [
        "#8\n",
        "my_list = [1, 2, 3, 4, 5]\n",
        "\n",
        "# Remove the number 3 from the list\n",
        "my_list.remove(3)\n",
        "\n",
        "# Print the updated list\n",
        "print(\"Updated list:\", my_list)"
      ],
      "metadata": {
        "colab": {
          "base_uri": "https://localhost:8080/"
        },
        "id": "RXC_w8FzBJXz",
        "outputId": "1dff6ad0-bc64-4eb0-af1e-a30457734f68"
      },
      "execution_count": 12,
      "outputs": [
        {
          "output_type": "stream",
          "name": "stdout",
          "text": [
            "Updated list: [1, 2, 4, 5]\n"
          ]
        }
      ]
    },
    {
      "cell_type": "code",
      "source": [
        "#9\n",
        "my_list = ['a', 'b', 'c', 'd']\n",
        "second_element = my_list[1]\n",
        "print(second_element)\n"
      ],
      "metadata": {
        "colab": {
          "base_uri": "https://localhost:8080/"
        },
        "id": "LSfmCAasBJsi",
        "outputId": "c1ad8e5f-62e8-4c7e-8ccb-ce43febbe97d"
      },
      "execution_count": 9,
      "outputs": [
        {
          "output_type": "stream",
          "name": "stdout",
          "text": [
            "b\n"
          ]
        }
      ]
    },
    {
      "cell_type": "code",
      "source": [
        "#10\n",
        "my_list = [10, 20, 30, 40, 50]\n",
        "reversed_list = my_list[::-1]\n",
        "print(reversed_list)\n"
      ],
      "metadata": {
        "colab": {
          "base_uri": "https://localhost:8080/"
        },
        "id": "_ng-JTu2BJ8N",
        "outputId": "01963ad8-c0ef-4a06-da8a-c3b23a61c7e3"
      },
      "execution_count": 10,
      "outputs": [
        {
          "output_type": "stream",
          "name": "stdout",
          "text": [
            "[50, 40, 30, 20, 10]\n"
          ]
        }
      ]
    },
    {
      "cell_type": "code",
      "source": [
        "#11\n",
        "my_tuple = (10, 20, 30)\n",
        "\n",
        "# Print the tuple\n",
        "print(\"The tuple is:\", my_tuple)"
      ],
      "metadata": {
        "colab": {
          "base_uri": "https://localhost:8080/"
        },
        "id": "h4Wz0jaXCWh8",
        "outputId": "ba3a9b8d-7843-4ef9-a487-ceaa86e43da5"
      },
      "execution_count": 16,
      "outputs": [
        {
          "output_type": "stream",
          "name": "stdout",
          "text": [
            "The tuple is: (10, 20, 30)\n"
          ]
        }
      ]
    },
    {
      "cell_type": "code",
      "source": [
        "#12\n",
        "my_tuple = ('apple', 'banana', 'cherry')\n",
        "\n",
        "# Access the first element\n",
        "first_element = my_tuple[0]\n",
        "\n",
        "# Print the first element\n",
        "print(first_element)"
      ],
      "metadata": {
        "colab": {
          "base_uri": "https://localhost:8080/"
        },
        "id": "kJagU3NBCWUI",
        "outputId": "8c3ec788-2585-4c78-ceaa-1f035c23c594"
      },
      "execution_count": 17,
      "outputs": [
        {
          "output_type": "stream",
          "name": "stdout",
          "text": [
            "apple\n"
          ]
        }
      ]
    },
    {
      "cell_type": "code",
      "source": [
        "#13\n",
        "my_tuple = (1, 2, 3, 2, 4, 2)\n",
        "count_of_2 = my_tuple.count(2)  # Use the count() method\n",
        "print(f\"The number 2 appears {count_of_2} times in the tuple.\")"
      ],
      "metadata": {
        "colab": {
          "base_uri": "https://localhost:8080/"
        },
        "id": "S3BfVMUGCWF-",
        "outputId": "93fee6fe-1853-4658-b353-5667a567d408"
      },
      "execution_count": 15,
      "outputs": [
        {
          "output_type": "stream",
          "name": "stdout",
          "text": [
            "The number 2 appears 3 times in the tuple.\n"
          ]
        }
      ]
    },
    {
      "cell_type": "code",
      "source": [
        "#14\n",
        "my_tuple = ('dog', 'cat', 'rabbit')\n",
        "index_of_cat = my_tuple.index('cat')\n",
        "print(f\"The index of 'cat' is: {index_of_cat}\")\n"
      ],
      "metadata": {
        "colab": {
          "base_uri": "https://localhost:8080/"
        },
        "id": "Mce39iF2CVfQ",
        "outputId": "e4229167-3691-4392-bf25-abb38d5569b8"
      },
      "execution_count": 14,
      "outputs": [
        {
          "output_type": "stream",
          "name": "stdout",
          "text": [
            "The index of 'cat' is: 1\n"
          ]
        }
      ]
    },
    {
      "cell_type": "code",
      "source": [
        "#15\n",
        "my_tuple = ('apple', 'orange', 'banana')\n",
        "if 'banana' in my_tuple:\n",
        "    print(\"Banana is in the tuple.\")\n",
        "else:\n",
        "    print(\"Banana is not in the tuple.\")\n"
      ],
      "metadata": {
        "colab": {
          "base_uri": "https://localhost:8080/"
        },
        "id": "b36EMMAJCX6O",
        "outputId": "5cc59205-d9ca-473a-ebb3-b26ea3a86fb3"
      },
      "execution_count": 13,
      "outputs": [
        {
          "output_type": "stream",
          "name": "stdout",
          "text": [
            "Banana is in the tuple.\n"
          ]
        }
      ]
    },
    {
      "cell_type": "code",
      "source": [
        "#16\n",
        "my_set = {1, 2, 3, 4, 5}\n",
        "print(my_set)\n"
      ],
      "metadata": {
        "colab": {
          "base_uri": "https://localhost:8080/"
        },
        "id": "G8Dyhc7WD3Cj",
        "outputId": "9535424c-7cf0-4709-996d-5b8cd183d7ca"
      },
      "execution_count": 18,
      "outputs": [
        {
          "output_type": "stream",
          "name": "stdout",
          "text": [
            "{1, 2, 3, 4, 5}\n"
          ]
        }
      ]
    },
    {
      "cell_type": "code",
      "source": [
        "#17\n",
        "my_set = {1, 2, 3, 4}\n",
        "my_set.add(6)  # Adds the element 6 to the set\n",
        "print(my_set)"
      ],
      "metadata": {
        "colab": {
          "base_uri": "https://localhost:8080/"
        },
        "id": "XGtqzY1fD244",
        "outputId": "fe54a5b8-6c29-403f-a952-9016b64c9987"
      },
      "execution_count": 19,
      "outputs": [
        {
          "output_type": "stream",
          "name": "stdout",
          "text": [
            "{1, 2, 3, 4, 6}\n"
          ]
        }
      ]
    },
    {
      "cell_type": "code",
      "source": [
        "#18\n",
        "my_tuple = (10, 20, 30)\n",
        "print(my_tuple)"
      ],
      "metadata": {
        "colab": {
          "base_uri": "https://localhost:8080/"
        },
        "id": "qKzyKjbTD2wD",
        "outputId": "6a826855-eee7-4458-f2e4-bdbffef1541f"
      },
      "execution_count": 20,
      "outputs": [
        {
          "output_type": "stream",
          "name": "stdout",
          "text": [
            "(10, 20, 30)\n"
          ]
        }
      ]
    },
    {
      "cell_type": "code",
      "source": [
        "#19\n",
        "my_tuple = ('apple', 'banana', 'cherry')\n",
        "first_element = my_tuple[0]\n",
        "print(first_element)"
      ],
      "metadata": {
        "colab": {
          "base_uri": "https://localhost:8080/"
        },
        "id": "rqoF0eVeD2hy",
        "outputId": "da0fb204-ef3c-48d5-bf31-24a61e2f829b"
      },
      "execution_count": 21,
      "outputs": [
        {
          "output_type": "stream",
          "name": "stdout",
          "text": [
            "apple\n"
          ]
        }
      ]
    },
    {
      "cell_type": "code",
      "source": [
        "#20\n",
        "my_tuple = (1, 2, 3, 2, 4, 2)\n",
        "count_of_2 = my_tuple.count(2)\n",
        "print(count_of_2)"
      ],
      "metadata": {
        "colab": {
          "base_uri": "https://localhost:8080/"
        },
        "id": "vtQ-9hnYFJxN",
        "outputId": "6126f6b1-67d2-49fb-fcff-148bae7d7f66"
      },
      "execution_count": 22,
      "outputs": [
        {
          "output_type": "stream",
          "name": "stdout",
          "text": [
            "3\n"
          ]
        }
      ]
    },
    {
      "cell_type": "code",
      "source": [
        "#21\n",
        "my_tuple = ('dog', 'cat', 'rabbit')\n",
        "index_of_cat = my_tuple.index('cat')\n",
        "print(index_of_cat)\n"
      ],
      "metadata": {
        "colab": {
          "base_uri": "https://localhost:8080/"
        },
        "id": "eWKuaD6CFYP2",
        "outputId": "eabc105f-23b9-4ed8-ead4-31c590922f0d"
      },
      "execution_count": 23,
      "outputs": [
        {
          "output_type": "stream",
          "name": "stdout",
          "text": [
            "1\n"
          ]
        }
      ]
    },
    {
      "cell_type": "code",
      "source": [
        "#22\n",
        "my_tuple = ('apple', 'orange', 'banana')\n",
        "if 'banana' in my_tuple:\n",
        "    print(\"Banana is in the tuple.\")\n",
        "else:\n",
        "    print(\"Banana is not in the tuple.\")\n"
      ],
      "metadata": {
        "colab": {
          "base_uri": "https://localhost:8080/"
        },
        "id": "cku-dU0oFr9I",
        "outputId": "7de3bc5f-3f53-4f15-806e-cd913774d1e9"
      },
      "execution_count": 24,
      "outputs": [
        {
          "output_type": "stream",
          "name": "stdout",
          "text": [
            "Banana is in the tuple.\n"
          ]
        }
      ]
    },
    {
      "cell_type": "code",
      "source": [
        "#23\n",
        "my_set = {1, 2, 3, 4, 5}\n",
        "print(my_set)"
      ],
      "metadata": {
        "colab": {
          "base_uri": "https://localhost:8080/"
        },
        "id": "3RHGleaoFvqU",
        "outputId": "030d6a41-6937-4fb9-ae46-0c3bfb62ec39"
      },
      "execution_count": 25,
      "outputs": [
        {
          "output_type": "stream",
          "name": "stdout",
          "text": [
            "{1, 2, 3, 4, 5}\n"
          ]
        }
      ]
    },
    {
      "cell_type": "code",
      "source": [
        "#24\n",
        "my_set = {1, 2, 3, 4}\n",
        "\n",
        "# Add the element 6 to the set\n",
        "my_set.add(6)\n",
        "\n",
        "# Print the updated set\n",
        "print(my_set)"
      ],
      "metadata": {
        "colab": {
          "base_uri": "https://localhost:8080/"
        },
        "id": "zG4t3RS7F8rL",
        "outputId": "5f474628-aa11-41df-b73c-3926742af163"
      },
      "execution_count": 26,
      "outputs": [
        {
          "output_type": "stream",
          "name": "stdout",
          "text": [
            "{1, 2, 3, 4, 6}\n"
          ]
        }
      ]
    }
  ]
}